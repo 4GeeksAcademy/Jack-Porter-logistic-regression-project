{
 "cells": [
  {
   "cell_type": "markdown",
   "metadata": {},
   "source": [
    "# Logistic Regression: Banking Marketing Campaign\n",
    "\n",
    "## 1. Data Acquisition & EDA\n",
    "\n",
    "### 1.1. Load the data"
   ]
  },
  {
   "cell_type": "code",
   "execution_count": 1,
   "metadata": {},
   "outputs": [],
   "source": [
    "import pandas as pd\n",
    "\n",
    "# Read the data into a pandas dataframe from the URL\n",
    "data_url='https://raw.githubusercontent.com/4GeeksAcademy/logistic-regression-project-tutorial/main/bank-marketing-campaign-data.csv'\n",
    "data_df=pd.read_csv(data_url, sep=';')"
   ]
  },
  {
   "cell_type": "markdown",
   "metadata": {},
   "source": [
    "### 1.2. Train-test split\n",
    "\n",
    "First thing's first - train test split the data. During EDA and feature engineering we are going to dig into this dataset and we don't want **ANY** information from or about the test set going into the design of the data pipeline or model. This would compromise the validity of our test set. Remember, the test set exists to see how the model will perform on new data - in a real deployment, the model will be used to make predictions on new data as it comes in. To get a realistic proxy of that situation, we need to leave the test data completely unknown."
   ]
  },
  {
   "cell_type": "code",
   "execution_count": 2,
   "metadata": {},
   "outputs": [],
   "source": [
    "from sklearn.model_selection import train_test_split\n",
    "\n",
    "# First separate the features from the labels\n",
    "labels=data_df['y']\n",
    "features=data_df.drop('y', axis=1)\n",
    "\n",
    "# Do the test-train split\n",
    "training_features, testing_features, training_labels, testing_labels=train_test_split(\n",
    "    features,\n",
    "    labels,\n",
    "    test_size=0.33, \n",
    "    random_state=42\n",
    ")"
   ]
  },
  {
   "cell_type": "markdown",
   "metadata": {},
   "source": [
    "Lots of data to work with here - some numerical features but also a lot of string/object types which are probably categorical and ordinal or interval. Let's take a closer look:"
   ]
  },
  {
   "cell_type": "code",
   "execution_count": 3,
   "metadata": {},
   "outputs": [
    {
     "data": {
      "text/html": [
       "<div>\n",
       "<style scoped>\n",
       "    .dataframe tbody tr th:only-of-type {\n",
       "        vertical-align: middle;\n",
       "    }\n",
       "\n",
       "    .dataframe tbody tr th {\n",
       "        vertical-align: top;\n",
       "    }\n",
       "\n",
       "    .dataframe thead th {\n",
       "        text-align: right;\n",
       "    }\n",
       "</style>\n",
       "<table border=\"1\" class=\"dataframe\">\n",
       "  <thead>\n",
       "    <tr style=\"text-align: right;\">\n",
       "      <th></th>\n",
       "      <th>8505</th>\n",
       "      <th>28321</th>\n",
       "      <th>2582</th>\n",
       "      <th>9407</th>\n",
       "      <th>33934</th>\n",
       "    </tr>\n",
       "  </thead>\n",
       "  <tbody>\n",
       "    <tr>\n",
       "      <th>age</th>\n",
       "      <td>43</td>\n",
       "      <td>35</td>\n",
       "      <td>34</td>\n",
       "      <td>49</td>\n",
       "      <td>52</td>\n",
       "    </tr>\n",
       "    <tr>\n",
       "      <th>job</th>\n",
       "      <td>blue-collar</td>\n",
       "      <td>admin.</td>\n",
       "      <td>management</td>\n",
       "      <td>blue-collar</td>\n",
       "      <td>admin.</td>\n",
       "    </tr>\n",
       "    <tr>\n",
       "      <th>marital</th>\n",
       "      <td>married</td>\n",
       "      <td>married</td>\n",
       "      <td>married</td>\n",
       "      <td>married</td>\n",
       "      <td>married</td>\n",
       "    </tr>\n",
       "    <tr>\n",
       "      <th>education</th>\n",
       "      <td>basic.4y</td>\n",
       "      <td>high.school</td>\n",
       "      <td>university.degree</td>\n",
       "      <td>basic.4y</td>\n",
       "      <td>basic.9y</td>\n",
       "    </tr>\n",
       "    <tr>\n",
       "      <th>default</th>\n",
       "      <td>no</td>\n",
       "      <td>no</td>\n",
       "      <td>no</td>\n",
       "      <td>unknown</td>\n",
       "      <td>no</td>\n",
       "    </tr>\n",
       "    <tr>\n",
       "      <th>housing</th>\n",
       "      <td>yes</td>\n",
       "      <td>yes</td>\n",
       "      <td>yes</td>\n",
       "      <td>no</td>\n",
       "      <td>yes</td>\n",
       "    </tr>\n",
       "    <tr>\n",
       "      <th>loan</th>\n",
       "      <td>no</td>\n",
       "      <td>no</td>\n",
       "      <td>no</td>\n",
       "      <td>no</td>\n",
       "      <td>no</td>\n",
       "    </tr>\n",
       "    <tr>\n",
       "      <th>contact</th>\n",
       "      <td>telephone</td>\n",
       "      <td>cellular</td>\n",
       "      <td>telephone</td>\n",
       "      <td>telephone</td>\n",
       "      <td>cellular</td>\n",
       "    </tr>\n",
       "    <tr>\n",
       "      <th>month</th>\n",
       "      <td>jun</td>\n",
       "      <td>apr</td>\n",
       "      <td>may</td>\n",
       "      <td>jun</td>\n",
       "      <td>may</td>\n",
       "    </tr>\n",
       "    <tr>\n",
       "      <th>day_of_week</th>\n",
       "      <td>wed</td>\n",
       "      <td>wed</td>\n",
       "      <td>tue</td>\n",
       "      <td>fri</td>\n",
       "      <td>wed</td>\n",
       "    </tr>\n",
       "    <tr>\n",
       "      <th>duration</th>\n",
       "      <td>28</td>\n",
       "      <td>1190</td>\n",
       "      <td>230</td>\n",
       "      <td>190</td>\n",
       "      <td>38</td>\n",
       "    </tr>\n",
       "    <tr>\n",
       "      <th>campaign</th>\n",
       "      <td>4</td>\n",
       "      <td>1</td>\n",
       "      <td>3</td>\n",
       "      <td>4</td>\n",
       "      <td>2</td>\n",
       "    </tr>\n",
       "    <tr>\n",
       "      <th>pdays</th>\n",
       "      <td>999</td>\n",
       "      <td>999</td>\n",
       "      <td>999</td>\n",
       "      <td>999</td>\n",
       "      <td>999</td>\n",
       "    </tr>\n",
       "    <tr>\n",
       "      <th>previous</th>\n",
       "      <td>0</td>\n",
       "      <td>0</td>\n",
       "      <td>0</td>\n",
       "      <td>0</td>\n",
       "      <td>1</td>\n",
       "    </tr>\n",
       "    <tr>\n",
       "      <th>poutcome</th>\n",
       "      <td>nonexistent</td>\n",
       "      <td>nonexistent</td>\n",
       "      <td>nonexistent</td>\n",
       "      <td>nonexistent</td>\n",
       "      <td>failure</td>\n",
       "    </tr>\n",
       "    <tr>\n",
       "      <th>emp.var.rate</th>\n",
       "      <td>1.4</td>\n",
       "      <td>-1.8</td>\n",
       "      <td>1.1</td>\n",
       "      <td>1.4</td>\n",
       "      <td>-1.8</td>\n",
       "    </tr>\n",
       "    <tr>\n",
       "      <th>cons.price.idx</th>\n",
       "      <td>94.465</td>\n",
       "      <td>93.075</td>\n",
       "      <td>93.994</td>\n",
       "      <td>94.465</td>\n",
       "      <td>92.893</td>\n",
       "    </tr>\n",
       "    <tr>\n",
       "      <th>cons.conf.idx</th>\n",
       "      <td>-41.8</td>\n",
       "      <td>-47.1</td>\n",
       "      <td>-36.4</td>\n",
       "      <td>-41.8</td>\n",
       "      <td>-46.2</td>\n",
       "    </tr>\n",
       "    <tr>\n",
       "      <th>euribor3m</th>\n",
       "      <td>4.864</td>\n",
       "      <td>1.445</td>\n",
       "      <td>4.856</td>\n",
       "      <td>4.967</td>\n",
       "      <td>1.281</td>\n",
       "    </tr>\n",
       "    <tr>\n",
       "      <th>nr.employed</th>\n",
       "      <td>5228.1</td>\n",
       "      <td>5099.1</td>\n",
       "      <td>5191.0</td>\n",
       "      <td>5228.1</td>\n",
       "      <td>5099.1</td>\n",
       "    </tr>\n",
       "  </tbody>\n",
       "</table>\n",
       "</div>"
      ],
      "text/plain": [
       "                      8505         28321              2582         9407   \\\n",
       "age                      43           35                 34           49   \n",
       "job             blue-collar       admin.         management  blue-collar   \n",
       "marital             married      married            married      married   \n",
       "education          basic.4y  high.school  university.degree     basic.4y   \n",
       "default                  no           no                 no      unknown   \n",
       "housing                 yes          yes                yes           no   \n",
       "loan                     no           no                 no           no   \n",
       "contact           telephone     cellular          telephone    telephone   \n",
       "month                   jun          apr                may          jun   \n",
       "day_of_week             wed          wed                tue          fri   \n",
       "duration                 28         1190                230          190   \n",
       "campaign                  4            1                  3            4   \n",
       "pdays                   999          999                999          999   \n",
       "previous                  0            0                  0            0   \n",
       "poutcome        nonexistent  nonexistent        nonexistent  nonexistent   \n",
       "emp.var.rate            1.4         -1.8                1.1          1.4   \n",
       "cons.price.idx       94.465       93.075             93.994       94.465   \n",
       "cons.conf.idx         -41.8        -47.1              -36.4        -41.8   \n",
       "euribor3m             4.864        1.445              4.856        4.967   \n",
       "nr.employed          5228.1       5099.1             5191.0       5228.1   \n",
       "\n",
       "                   33934  \n",
       "age                   52  \n",
       "job               admin.  \n",
       "marital          married  \n",
       "education       basic.9y  \n",
       "default               no  \n",
       "housing              yes  \n",
       "loan                  no  \n",
       "contact         cellular  \n",
       "month                may  \n",
       "day_of_week          wed  \n",
       "duration              38  \n",
       "campaign               2  \n",
       "pdays                999  \n",
       "previous               1  \n",
       "poutcome         failure  \n",
       "emp.var.rate        -1.8  \n",
       "cons.price.idx    92.893  \n",
       "cons.conf.idx      -46.2  \n",
       "euribor3m          1.281  \n",
       "nr.employed       5099.1  "
      ]
     },
     "execution_count": 3,
     "metadata": {},
     "output_type": "execute_result"
    }
   ],
   "source": [
    "# Inspect the first few rows, transposing so columns don't get cut off\n",
    "training_features.head().transpose()"
   ]
  },
  {
   "cell_type": "markdown",
   "metadata": {},
   "source": [
    "Beyond the Pandas datatypes, we have a few different kinds of variables here in the statistical sense:\n",
    "\n",
    "1. **Ordinal**: 'categorical' variables like *education* which have a natural order, but no quantitative interval or magnitude\n",
    "2. **Interval**: for example, *month* has a defined degrees of difference between the categories. \n",
    "3. **Nominal**: things like *marital* which have categories only, no obvious quantity or order.\n",
    "\n",
    "These types in particular will be interesting, because we will need to handle encoding them to numerical features differently based on their properties. I also see several discrete and continuous random variables like *age* and *duration*.\n",
    "\n",
    "There are a couple of other features that peak my interest too, but in terms of data quality:\n",
    "\n",
    "1. *poutcome*: first 5 values are 'nonexistent' - I assume meaning that we don't know the outcome of the previous marketing campaign?\n",
    "2. *day_of_week* (and others): is Monday call day and this feature is constant?\n",
    "3. *pdays*: is 999 some kind of place holder for missing data? Is this value constant too?\n",
    "\n",
    "Let's check how many unique values we have for each feature. This information will guide us in deciding how to encode the data for regression and if we should drop any features from the get-go.\n",
    "\n",
    "### 1.2. Unique and/or missing values"
   ]
  },
  {
   "cell_type": "code",
   "execution_count": 4,
   "metadata": {},
   "outputs": [
    {
     "data": {
      "text/plain": [
       "age                 77\n",
       "job                 12\n",
       "marital              4\n",
       "education            8\n",
       "default              3\n",
       "housing              3\n",
       "loan                 3\n",
       "contact              2\n",
       "month               10\n",
       "day_of_week          5\n",
       "duration          1415\n",
       "campaign            40\n",
       "pdays               26\n",
       "previous             8\n",
       "poutcome             3\n",
       "emp.var.rate        10\n",
       "cons.price.idx      26\n",
       "cons.conf.idx       26\n",
       "euribor3m          311\n",
       "nr.employed         11\n",
       "dtype: int64"
      ]
     },
     "execution_count": 4,
     "metadata": {},
     "output_type": "execute_result"
    }
   ],
   "source": [
    "training_features.nunique()"
   ]
  },
  {
   "cell_type": "markdown",
   "metadata": {},
   "source": [
    "OK, not so bad. Looks like calls happen on weekdays - 5 unique values. No constant columns that are begging to be dropped. I'm still curious about *default*, *housing*, *loan* and *poutcome* - it seems like they should be binary but each has three values. Looking at the few rows we inspected above it seems like the string 'unknown' is being used for missing data. Let's find out how much data is missing."
   ]
  },
  {
   "cell_type": "code",
   "execution_count": 5,
   "metadata": {},
   "outputs": [],
   "source": [
    "# Define a reusable helper function here, since we will be looking at feature composition a lot\n",
    "def feature_composition(df: pd.DataFrame, features: list) -> None:\n",
    "    '''Takes a dataframe and a list of features. Prints out\n",
    "    the unique levels of that feature with their count and \n",
    "    percent.'''\n",
    "\n",
    "    for i, column_name in enumerate(features):\n",
    "        value_counts=df[column_name].value_counts().T.to_dict()\n",
    "\n",
    "        print(f'\\nFeature: {column_name}')\n",
    "\n",
    "        for key, value in value_counts.items():\n",
    "            percent_value=(value/len(data_df)) * 100\n",
    "            print(f' {key}: {value} ({percent_value:.1f}%)')"
   ]
  },
  {
   "cell_type": "code",
   "execution_count": 6,
   "metadata": {},
   "outputs": [
    {
     "name": "stdout",
     "output_type": "stream",
     "text": [
      "\n",
      "Feature: default\n",
      " no: 21858 (53.1%)\n",
      " unknown: 5735 (13.9%)\n",
      " yes: 2 (0.0%)\n",
      "\n",
      "Feature: housing\n",
      " yes: 14445 (35.1%)\n",
      " no: 12465 (30.3%)\n",
      " unknown: 685 (1.7%)\n",
      "\n",
      "Feature: loan\n",
      " no: 22711 (55.1%)\n",
      " yes: 4199 (10.2%)\n",
      " unknown: 685 (1.7%)\n",
      "\n",
      "Feature: poutcome\n",
      " nonexistent: 23856 (57.9%)\n",
      " failure: 2837 (6.9%)\n",
      " success: 902 (2.2%)\n"
     ]
    }
   ],
   "source": [
    "feature_composition(training_features, ['default','housing','loan','poutcome'])"
   ]
  },
  {
   "cell_type": "markdown",
   "metadata": {},
   "source": [
    "We have very, very few *defaults* - this column is a good candidate for exclusion based on low entropy. It's mostly missing or 'no' - probably not adding much information. Interestingly, both *housing* and *loan* are missing exactly 990 rows, I'd bet it's the same rows too. We could maybe drop those examples as missing/bad data. Let's look at the weird '999' value in *pdays* I bet that's a placeholder of some kind too."
   ]
  },
  {
   "cell_type": "code",
   "execution_count": 7,
   "metadata": {},
   "outputs": [
    {
     "name": "stdout",
     "output_type": "stream",
     "text": [
      "\n",
      "Feature: pdays\n",
      " 999: 26598 (64.6%)\n",
      " 3: 302 (0.7%)\n",
      " 6: 282 (0.7%)\n",
      " 4: 75 (0.2%)\n",
      " 12: 38 (0.1%)\n",
      " 9: 36 (0.1%)\n",
      " 10: 36 (0.1%)\n",
      " 2: 33 (0.1%)\n",
      " 7: 32 (0.1%)\n",
      " 5: 28 (0.1%)\n",
      " 13: 22 (0.1%)\n",
      " 1: 18 (0.0%)\n",
      " 15: 18 (0.0%)\n",
      " 11: 18 (0.0%)\n",
      " 8: 13 (0.0%)\n",
      " 14: 13 (0.0%)\n",
      " 0: 8 (0.0%)\n",
      " 17: 7 (0.0%)\n",
      " 16: 6 (0.0%)\n",
      " 18: 5 (0.0%)\n",
      " 22: 2 (0.0%)\n",
      " 21: 1 (0.0%)\n",
      " 27: 1 (0.0%)\n",
      " 20: 1 (0.0%)\n",
      " 19: 1 (0.0%)\n",
      " 25: 1 (0.0%)\n"
     ]
    }
   ],
   "source": [
    "feature_composition(training_features, ['pdays'])"
   ]
  },
  {
   "cell_type": "markdown",
   "metadata": {},
   "source": [
    "Ok, now this makes sense - from the metadata, *pdays* is 'Number of days that elapsed since the last campaign until the customer was contacted (numeric)'. The 999 value is probably missing data here too, but it also could be for people who were not included in the previous campaign - this qualitatively tracks with the large percentage of people for which the outcome of the previous campaign is unknown. Whatever the explanation, this is a very low entropy column too.\n",
    "\n",
    "## 2. Feature engineering\n",
    "\n",
    "### 2.1. Feature drops\n",
    "\n",
    "I think the first thing we should do it just get rid of features related to the previous campaign - I don't think there is enough data about it to be meaningful. This way we loose some low entropy features and make the model simpler, without giving up any rows. Less is more."
   ]
  },
  {
   "cell_type": "code",
   "execution_count": 8,
   "metadata": {},
   "outputs": [
    {
     "name": "stdout",
     "output_type": "stream",
     "text": [
      "<class 'pandas.core.frame.DataFrame'>\n",
      "Index: 27595 entries, 8505 to 15795\n",
      "Data columns (total 17 columns):\n",
      " #   Column          Non-Null Count  Dtype  \n",
      "---  ------          --------------  -----  \n",
      " 0   age             27595 non-null  int64  \n",
      " 1   job             27595 non-null  object \n",
      " 2   marital         27595 non-null  object \n",
      " 3   education       27595 non-null  object \n",
      " 4   default         27595 non-null  object \n",
      " 5   housing         27595 non-null  object \n",
      " 6   loan            27595 non-null  object \n",
      " 7   contact         27595 non-null  object \n",
      " 8   month           27595 non-null  object \n",
      " 9   day_of_week     27595 non-null  object \n",
      " 10  duration        27595 non-null  int64  \n",
      " 11  campaign        27595 non-null  int64  \n",
      " 12  emp.var.rate    27595 non-null  float64\n",
      " 13  cons.price.idx  27595 non-null  float64\n",
      " 14  cons.conf.idx   27595 non-null  float64\n",
      " 15  euribor3m       27595 non-null  float64\n",
      " 16  nr.employed     27595 non-null  float64\n",
      "dtypes: float64(5), int64(3), object(9)\n",
      "memory usage: 3.8+ MB\n"
     ]
    }
   ],
   "source": [
    "# Names of columns to drop\n",
    "column_drops=['poutcome', 'pdays', 'previous']\n",
    "\n",
    "# Do the drops\n",
    "training_features.drop(column_drops, axis=1, inplace=True)\n",
    "\n",
    "# Do the same thing to the testing data\n",
    "testing_features.drop(column_drops, axis=1, inplace=True)\n",
    "\n",
    "# Take a look\n",
    "training_features.info()"
   ]
  },
  {
   "cell_type": "markdown",
   "metadata": {},
   "source": [
    "### 2.2. Feature encoding\n",
    "#### 2.2.1. Categorical/interval features\n",
    "\n",
    "Next, let's deal with the time features. Interval time features are better encoded with sin/cos components than single numbers - this method catches the 'near-ness' of Sunday to Monday or December to February where just numbering the months or days does not. If you are interested in cyclical encoding for time features check out [this Kaggle notebook](https://www.kaggle.com/code/avanwyk/encoding-cyclical-features-for-deep-learning).\n",
    "\n",
    "Here is what the features look like to start with:"
   ]
  },
  {
   "cell_type": "code",
   "execution_count": 9,
   "metadata": {},
   "outputs": [
    {
     "name": "stdout",
     "output_type": "stream",
     "text": [
      "\n",
      "Feature: day_of_week\n",
      " thu: 5766 (14.0%)\n",
      " mon: 5645 (13.7%)\n",
      " wed: 5503 (13.4%)\n",
      " tue: 5396 (13.1%)\n",
      " fri: 5285 (12.8%)\n"
     ]
    }
   ],
   "source": [
    "feature_composition(training_features, ['day_of_week'])"
   ]
  },
  {
   "cell_type": "code",
   "execution_count": 10,
   "metadata": {},
   "outputs": [
    {
     "name": "stdout",
     "output_type": "stream",
     "text": [
      "\n",
      "Feature: month\n",
      " may: 9130 (22.2%)\n",
      " jul: 4868 (11.8%)\n",
      " aug: 4148 (10.1%)\n",
      " jun: 3573 (8.7%)\n",
      " nov: 2745 (6.7%)\n",
      " apr: 1744 (4.2%)\n",
      " oct: 496 (1.2%)\n",
      " mar: 385 (0.9%)\n",
      " sep: 381 (0.9%)\n",
      " dec: 125 (0.3%)\n"
     ]
    }
   ],
   "source": [
    "feature_composition(training_features, ['month'])"
   ]
  },
  {
   "cell_type": "code",
   "execution_count": 11,
   "metadata": {},
   "outputs": [],
   "source": [
    "import numpy as np\n",
    "\n",
    "# Don't worry about downcasting FutureWarning\n",
    "pd.set_option('future.no_silent_downcasting', True)\n",
    "\n",
    "# Define a helper function here so we can encode the time\n",
    "# features the same way on the training and testing data\n",
    "# without copy-pasting the same code\n",
    "def encode_time_features(data_df: pd.DataFrame) -> pd.DataFrame:\n",
    "    '''Takes a Pandas dataframe and uses cyclical sin/cos to encode\n",
    "    month and day features. Returns updated dataframe.'''\n",
    "\n",
    "    # First convert the features to numeric\n",
    "    dict={'mon' : 1, 'tue' : 2, 'wed': 3, 'thu' : 4, 'fri': 5}\n",
    "    data_df=data_df.replace(dict)\n",
    "\n",
    "    dict={'jan' : 1, 'feb' : 2, 'mar': 3, 'apr' : 4, 'may': 5, 'jun': 6, 'jul': 7, 'aug': 8, 'sep': 9, 'oct': 10, 'nov': 11, 'dec': 12}\n",
    "    data_df=data_df.replace(dict)\n",
    "\n",
    "    # And fix the dtypes\n",
    "    data_df['day_of_week']=data_df['day_of_week'].astype(int)\n",
    "    data_df['month']=data_df['month'].astype(int)\n",
    "\n",
    "    # Now encode the day and month with sin/cos components\n",
    "    data_df['day_sin'] = np.sin(2 * np.pi * data_df['day_of_week']/7.0)\n",
    "    data_df['day_cos'] = np.cos(2 * np.pi * data_df['day_of_week']/7.0)\n",
    "\n",
    "    data_df['day_sin'] = np.sin(2 * np.pi * data_df['day_of_week']/7.0)\n",
    "    data_df['day_cos'] = np.cos(2 * np.pi * data_df['day_of_week']/7.0)\n",
    "\n",
    "    data_df['month_sin'] = np.sin(2 * np.pi * data_df['month']/12.0)\n",
    "    data_df['month_cos'] = np.cos(2 * np.pi * data_df['month']/12.0)\n",
    "\n",
    "    # Drop the original string features\n",
    "    data_df.drop(['month', 'day_of_week'], axis=1, inplace=True)\n",
    "\n",
    "    return data_df"
   ]
  },
  {
   "cell_type": "code",
   "execution_count": 12,
   "metadata": {},
   "outputs": [],
   "source": [
    "# Encode the training and testing features the same way\n",
    "training_features=encode_time_features(training_features)\n",
    "testing_features=encode_time_features(testing_features)"
   ]
  },
  {
   "cell_type": "markdown",
   "metadata": {},
   "source": [
    "#### 2.2.2. Categorical/ordinal feature\n",
    "\n",
    "Next, let's look at education and job and make sure we encode those in a way that makes sense. Here are their levels:"
   ]
  },
  {
   "cell_type": "code",
   "execution_count": 13,
   "metadata": {},
   "outputs": [
    {
     "name": "stdout",
     "output_type": "stream",
     "text": [
      "\n",
      "Feature: education\n",
      " university.degree: 8158 (19.8%)\n",
      " high.school: 6429 (15.6%)\n",
      " basic.9y: 3983 (9.7%)\n",
      " professional.course: 3484 (8.5%)\n",
      " basic.4y: 2805 (6.8%)\n",
      " basic.6y: 1553 (3.8%)\n",
      " unknown: 1174 (2.9%)\n",
      " illiterate: 9 (0.0%)\n"
     ]
    }
   ],
   "source": [
    "feature_composition(training_features, ['education'])"
   ]
  },
  {
   "cell_type": "markdown",
   "metadata": {},
   "source": [
    "Encode these in order of increasing education level:"
   ]
  },
  {
   "cell_type": "code",
   "execution_count": 14,
   "metadata": {},
   "outputs": [],
   "source": [
    "# Dictionary to translate employment string to numerical value\n",
    "dict={'unknown': 0, 'illiterate': 1, 'basic.4y': 2, 'basic.6y': 3, 'basic.9y': 4, 'high.school': 5, 'professional.course': 6, 'university.degree': 7}\n",
    "\n",
    "# Encode the training and testing data\n",
    "training_features=training_features.replace(dict)\n",
    "testing_features=testing_features.replace(dict)\n",
    "\n",
    "# Fix the dtypes\n",
    "training_features['education']=training_features['education'].astype(int)\n",
    "testing_features['education']=testing_features['education'].astype(int)\n"
   ]
  },
  {
   "cell_type": "markdown",
   "metadata": {},
   "source": [
    "And similarly for employment:"
   ]
  },
  {
   "cell_type": "code",
   "execution_count": 15,
   "metadata": {},
   "outputs": [
    {
     "name": "stdout",
     "output_type": "stream",
     "text": [
      "\n",
      "Feature: job\n",
      " admin.: 7022 (17.0%)\n",
      " blue-collar: 6249 (15.2%)\n",
      " technician: 4446 (10.8%)\n",
      " services: 2677 (6.5%)\n",
      " management: 1941 (4.7%)\n",
      " retired: 1126 (2.7%)\n",
      " self-employed: 964 (2.3%)\n",
      " entrepreneur: 944 (2.3%)\n",
      " housemaid: 724 (1.8%)\n",
      " unemployed: 664 (1.6%)\n",
      " student: 616 (1.5%)\n",
      " 0: 222 (0.5%)\n"
     ]
    }
   ],
   "source": [
    "feature_composition(training_features, ['job'])"
   ]
  },
  {
   "cell_type": "markdown",
   "metadata": {},
   "source": [
    "Was thinking that maybe we could do the same trick for employment - but it's hard to order the job types in a way that makes sense. If we could find where these classes came from - maybe some state department of labor statistics or something - we could maybe translate them to income level... But, let's leave it alone for now.\n",
    "\n",
    "#### 2.2.3. Categorical/nominal features\n",
    "\n",
    "For nominal features, we don't want to simply number the classes - this tells the model that they have a magnitude. For example, if we were to number the *housing* categories as follows:\n",
    "\n",
    "\n",
    "```bash\n",
    "unknown: 0\n",
    "yes: 1\n",
    "no: 2\n",
    "```\n",
    "\n",
    "it would imply that 'no' is somehow double 'yes' - makes no sense. The proper way to do this is with 'one hot' encoding. This technique uses a new binary categorical feature for each level of the original scale. Every example then gets a '1' to indicate it's level in the original feature. Here's what one hot encoding a few hypothetical examples for *housing* would look like:\n",
    "\n",
    "|          | housing_unknown | housing_yes | housing_no |\n",
    "|----------|-----------------|-------------|------------|\n",
    "| Person 1 |        1        |      0      |     0      |\n",
    "| Person 2 |        0        |      0      |     1      |\n",
    "| Person 3 |        0        |      1      |     0      |\n",
    "\n",
    "However, there is one issue with this: the above table looks intuitively good, but it introduces multicolinearity. Notice how the sum of all three one hot encoding features for any row is one? This is a problem for many machine learning models and is known as the 'dummy variable' problem. Without going into too much detail, we actually only need two one hot encoded variables to encode three feature levels and only four to encode five levels and so on. It's always one less than the original levels we are trying to encode. If you are interested in this topic check out this [Medium article](https://towardsdatascience.com/one-hot-encoding-multicollinearity-and-the-dummy-variable-trap-b5840be3c41a)\n",
    "\n",
    "Luckily, this type of encoding is a very common operation and Pandas *get_dummies()* can handle it for us - just be sure to set *drop_first* to **True**."
   ]
  },
  {
   "cell_type": "code",
   "execution_count": 16,
   "metadata": {},
   "outputs": [
    {
     "name": "stdout",
     "output_type": "stream",
     "text": [
      "<class 'pandas.core.frame.DataFrame'>\n",
      "Index: 27595 entries, 8505 to 15795\n",
      "Data columns (total 34 columns):\n",
      " #   Column             Non-Null Count  Dtype  \n",
      "---  ------             --------------  -----  \n",
      " 0   age                27595 non-null  int64  \n",
      " 1   education          27595 non-null  int64  \n",
      " 2   duration           27595 non-null  int64  \n",
      " 3   campaign           27595 non-null  int64  \n",
      " 4   emp.var.rate       27595 non-null  float64\n",
      " 5   cons.price.idx     27595 non-null  float64\n",
      " 6   cons.conf.idx      27595 non-null  float64\n",
      " 7   euribor3m          27595 non-null  float64\n",
      " 8   nr.employed        27595 non-null  float64\n",
      " 9   day_sin            27595 non-null  float64\n",
      " 10  day_cos            27595 non-null  float64\n",
      " 11  month_sin          27595 non-null  float64\n",
      " 12  month_cos          27595 non-null  float64\n",
      " 13  job_admin.         27595 non-null  int64  \n",
      " 14  job_blue-collar    27595 non-null  int64  \n",
      " 15  job_entrepreneur   27595 non-null  int64  \n",
      " 16  job_housemaid      27595 non-null  int64  \n",
      " 17  job_management     27595 non-null  int64  \n",
      " 18  job_retired        27595 non-null  int64  \n",
      " 19  job_self-employed  27595 non-null  int64  \n",
      " 20  job_services       27595 non-null  int64  \n",
      " 21  job_student        27595 non-null  int64  \n",
      " 22  job_technician     27595 non-null  int64  \n",
      " 23  job_unemployed     27595 non-null  int64  \n",
      " 24  marital_divorced   27595 non-null  int64  \n",
      " 25  marital_married    27595 non-null  int64  \n",
      " 26  marital_single     27595 non-null  int64  \n",
      " 27  default_no         27595 non-null  int64  \n",
      " 28  default_yes        27595 non-null  int64  \n",
      " 29  housing_no         27595 non-null  int64  \n",
      " 30  housing_yes        27595 non-null  int64  \n",
      " 31  loan_no            27595 non-null  int64  \n",
      " 32  loan_yes           27595 non-null  int64  \n",
      " 33  contact_telephone  27595 non-null  int64  \n",
      "dtypes: float64(9), int64(25)\n",
      "memory usage: 7.4 MB\n"
     ]
    }
   ],
   "source": [
    "# Names of columns we want to encode\n",
    "encoded_columns=['job','marital','default','housing','loan','contact']\n",
    "\n",
    "# Do the encoding\n",
    "training_features=pd.get_dummies(training_features, columns=encoded_columns, dtype=int, drop_first=True)\n",
    "testing_features=pd.get_dummies(testing_features, columns=encoded_columns, dtype=int, drop_first=True)\n",
    "\n",
    "training_features.info()"
   ]
  },
  {
   "cell_type": "markdown",
   "metadata": {},
   "source": [
    "### 2.3. Feature standardization\n",
    "\n",
    "Last feature engineering step will be to standardize our numerical features. The goal here is to bring all of the features into a similar range. Just because the values for *nr.employed* are larger than those for *euribor3m* does not mean it is more important. The important thing is the variation in those feature and their relationship to the target variable.\n",
    "\n",
    "For more information, check out the article on [preprocessing data](https://scikit-learn.org/stable/modules/preprocessing.html) from the scikit-learn documentation."
   ]
  },
  {
   "cell_type": "code",
   "execution_count": 17,
   "metadata": {},
   "outputs": [
    {
     "data": {
      "text/html": [
       "<div>\n",
       "<style scoped>\n",
       "    .dataframe tbody tr th:only-of-type {\n",
       "        vertical-align: middle;\n",
       "    }\n",
       "\n",
       "    .dataframe tbody tr th {\n",
       "        vertical-align: top;\n",
       "    }\n",
       "\n",
       "    .dataframe thead th {\n",
       "        text-align: right;\n",
       "    }\n",
       "</style>\n",
       "<table border=\"1\" class=\"dataframe\">\n",
       "  <thead>\n",
       "    <tr style=\"text-align: right;\">\n",
       "      <th></th>\n",
       "      <th>age</th>\n",
       "      <th>education</th>\n",
       "      <th>duration</th>\n",
       "      <th>campaign</th>\n",
       "      <th>emp.var.rate</th>\n",
       "      <th>cons.price.idx</th>\n",
       "      <th>cons.conf.idx</th>\n",
       "      <th>euribor3m</th>\n",
       "      <th>nr.employed</th>\n",
       "      <th>day_sin</th>\n",
       "      <th>...</th>\n",
       "      <th>marital_divorced</th>\n",
       "      <th>marital_married</th>\n",
       "      <th>marital_single</th>\n",
       "      <th>default_no</th>\n",
       "      <th>default_yes</th>\n",
       "      <th>housing_no</th>\n",
       "      <th>housing_yes</th>\n",
       "      <th>loan_no</th>\n",
       "      <th>loan_yes</th>\n",
       "      <th>contact_telephone</th>\n",
       "    </tr>\n",
       "  </thead>\n",
       "  <tbody>\n",
       "    <tr>\n",
       "      <th>8505</th>\n",
       "      <td>43</td>\n",
       "      <td>2</td>\n",
       "      <td>28</td>\n",
       "      <td>4</td>\n",
       "      <td>1.4</td>\n",
       "      <td>94.465</td>\n",
       "      <td>-41.8</td>\n",
       "      <td>4.864</td>\n",
       "      <td>5228.1</td>\n",
       "      <td>0.433884</td>\n",
       "      <td>...</td>\n",
       "      <td>0</td>\n",
       "      <td>1</td>\n",
       "      <td>0</td>\n",
       "      <td>1</td>\n",
       "      <td>0</td>\n",
       "      <td>0</td>\n",
       "      <td>1</td>\n",
       "      <td>1</td>\n",
       "      <td>0</td>\n",
       "      <td>1</td>\n",
       "    </tr>\n",
       "    <tr>\n",
       "      <th>28321</th>\n",
       "      <td>35</td>\n",
       "      <td>5</td>\n",
       "      <td>1190</td>\n",
       "      <td>1</td>\n",
       "      <td>-1.8</td>\n",
       "      <td>93.075</td>\n",
       "      <td>-47.1</td>\n",
       "      <td>1.445</td>\n",
       "      <td>5099.1</td>\n",
       "      <td>0.433884</td>\n",
       "      <td>...</td>\n",
       "      <td>0</td>\n",
       "      <td>1</td>\n",
       "      <td>0</td>\n",
       "      <td>1</td>\n",
       "      <td>0</td>\n",
       "      <td>0</td>\n",
       "      <td>1</td>\n",
       "      <td>1</td>\n",
       "      <td>0</td>\n",
       "      <td>0</td>\n",
       "    </tr>\n",
       "    <tr>\n",
       "      <th>2582</th>\n",
       "      <td>34</td>\n",
       "      <td>7</td>\n",
       "      <td>230</td>\n",
       "      <td>3</td>\n",
       "      <td>1.1</td>\n",
       "      <td>93.994</td>\n",
       "      <td>-36.4</td>\n",
       "      <td>4.856</td>\n",
       "      <td>5191.0</td>\n",
       "      <td>0.974928</td>\n",
       "      <td>...</td>\n",
       "      <td>0</td>\n",
       "      <td>1</td>\n",
       "      <td>0</td>\n",
       "      <td>1</td>\n",
       "      <td>0</td>\n",
       "      <td>0</td>\n",
       "      <td>1</td>\n",
       "      <td>1</td>\n",
       "      <td>0</td>\n",
       "      <td>1</td>\n",
       "    </tr>\n",
       "    <tr>\n",
       "      <th>9407</th>\n",
       "      <td>49</td>\n",
       "      <td>2</td>\n",
       "      <td>190</td>\n",
       "      <td>4</td>\n",
       "      <td>1.4</td>\n",
       "      <td>94.465</td>\n",
       "      <td>-41.8</td>\n",
       "      <td>4.967</td>\n",
       "      <td>5228.1</td>\n",
       "      <td>-0.974928</td>\n",
       "      <td>...</td>\n",
       "      <td>0</td>\n",
       "      <td>1</td>\n",
       "      <td>0</td>\n",
       "      <td>0</td>\n",
       "      <td>0</td>\n",
       "      <td>1</td>\n",
       "      <td>0</td>\n",
       "      <td>1</td>\n",
       "      <td>0</td>\n",
       "      <td>1</td>\n",
       "    </tr>\n",
       "    <tr>\n",
       "      <th>33934</th>\n",
       "      <td>52</td>\n",
       "      <td>4</td>\n",
       "      <td>38</td>\n",
       "      <td>2</td>\n",
       "      <td>-1.8</td>\n",
       "      <td>92.893</td>\n",
       "      <td>-46.2</td>\n",
       "      <td>1.281</td>\n",
       "      <td>5099.1</td>\n",
       "      <td>0.433884</td>\n",
       "      <td>...</td>\n",
       "      <td>0</td>\n",
       "      <td>1</td>\n",
       "      <td>0</td>\n",
       "      <td>1</td>\n",
       "      <td>0</td>\n",
       "      <td>0</td>\n",
       "      <td>1</td>\n",
       "      <td>1</td>\n",
       "      <td>0</td>\n",
       "      <td>0</td>\n",
       "    </tr>\n",
       "  </tbody>\n",
       "</table>\n",
       "<p>5 rows × 34 columns</p>\n",
       "</div>"
      ],
      "text/plain": [
       "       age  education  duration  campaign  emp.var.rate  cons.price.idx  \\\n",
       "8505    43          2        28         4           1.4          94.465   \n",
       "28321   35          5      1190         1          -1.8          93.075   \n",
       "2582    34          7       230         3           1.1          93.994   \n",
       "9407    49          2       190         4           1.4          94.465   \n",
       "33934   52          4        38         2          -1.8          92.893   \n",
       "\n",
       "       cons.conf.idx  euribor3m  nr.employed   day_sin  ...  marital_divorced  \\\n",
       "8505           -41.8      4.864       5228.1  0.433884  ...                 0   \n",
       "28321          -47.1      1.445       5099.1  0.433884  ...                 0   \n",
       "2582           -36.4      4.856       5191.0  0.974928  ...                 0   \n",
       "9407           -41.8      4.967       5228.1 -0.974928  ...                 0   \n",
       "33934          -46.2      1.281       5099.1  0.433884  ...                 0   \n",
       "\n",
       "       marital_married  marital_single  default_no  default_yes  housing_no  \\\n",
       "8505                 1               0           1            0           0   \n",
       "28321                1               0           1            0           0   \n",
       "2582                 1               0           1            0           0   \n",
       "9407                 1               0           0            0           1   \n",
       "33934                1               0           1            0           0   \n",
       "\n",
       "       housing_yes  loan_no  loan_yes  contact_telephone  \n",
       "8505             1        1         0                  1  \n",
       "28321            1        1         0                  0  \n",
       "2582             1        1         0                  1  \n",
       "9407             0        1         0                  1  \n",
       "33934            1        1         0                  0  \n",
       "\n",
       "[5 rows x 34 columns]"
      ]
     },
     "execution_count": 17,
     "metadata": {},
     "output_type": "execute_result"
    }
   ],
   "source": [
    "training_features.head()"
   ]
  },
  {
   "cell_type": "code",
   "execution_count": 18,
   "metadata": {},
   "outputs": [
    {
     "name": "stdout",
     "output_type": "stream",
     "text": [
      "Training features are: <class 'numpy.ndarray'>\n",
      "Training features shape: (27595, 34)\n"
     ]
    }
   ],
   "source": [
    "from sklearn.preprocessing import StandardScaler\n",
    "\n",
    "# Scale the features\n",
    "standard_scaler=StandardScaler().fit(training_features)\n",
    "training_features=standard_scaler.transform(training_features)\n",
    "testing_features=standard_scaler.transform(testing_features)\n",
    "\n",
    "print(f'Training features are: {type(training_features)}')\n",
    "print(f'Training features shape: {training_features.shape}')"
   ]
  },
  {
   "cell_type": "markdown",
   "metadata": {},
   "source": [
    "### 2.4. Label encoding\n",
    "\n",
    "Last thing to do before we can train a model is encode our labels to a binary categorical variable."
   ]
  },
  {
   "cell_type": "code",
   "execution_count": 19,
   "metadata": {},
   "outputs": [
    {
     "name": "stdout",
     "output_type": "stream",
     "text": [
      "Training labels: [0 1 0 ... 1 0 0]\n"
     ]
    }
   ],
   "source": [
    "from sklearn.preprocessing import LabelEncoder\n",
    "\n",
    "# Last, encode the labels\n",
    "label_encoder=LabelEncoder().fit(training_labels)\n",
    "training_labels=label_encoder.transform(training_labels)\n",
    "testing_labels=label_encoder.transform(testing_labels)\n",
    "\n",
    "print(f'Training labels: {training_labels}')"
   ]
  },
  {
   "cell_type": "markdown",
   "metadata": {},
   "source": [
    "## 3. Classifier optimization\n",
    "\n",
    "Let's start with the off-the-shelf *LogisticRegression* from scikit-learn and see how it does. This will be our baseline of comparison to determine if anything we are doing to optimize it is having a real effect. Take a look a the official [documentation](https://scikit-learn.org/1.5/modules/generated/sklearn.linear_model.LogisticRegression.html), this is always the primary source for information about what it does and how to use it.\n",
    "\n",
    "### 3.1. Naive scikit-learn *LogisticRegression*"
   ]
  },
  {
   "cell_type": "code",
   "execution_count": 20,
   "metadata": {},
   "outputs": [
    {
     "data": {
      "image/png": "[encoded data removed]",
      "text/plain": [
       "<Figure size 800x400 with 4 Axes>"
      ]
     },
     "metadata": {},
     "output_type": "display_data"
    },
    {
     "name": "stdout",
     "output_type": "stream",
     "text": [
      "Model is 90.7% accurate on the training data.\n",
      "Model is 90.6% accurate on the testing data.\n"
     ]
    }
   ],
   "source": [
    "import matplotlib.pyplot as plt\n",
    "from sklearn.linear_model import LogisticRegression\n",
    "from sklearn.metrics import accuracy_score, confusion_matrix, ConfusionMatrixDisplay\n",
    "\n",
    "# Train the model on the training data\n",
    "model=LogisticRegression(random_state=0).fit(training_features, training_labels)\n",
    "\n",
    "# Set-up two subplots for the training and testing confusion matrices\n",
    "fig, axes = plt.subplots(1, 2, figsize=(8, 4), sharey=True)\n",
    "\n",
    "# Set the figure and individual plot titles\n",
    "fig.suptitle('Classifier performance: did customer take\\nout long-term deposit?', fontsize=16)\n",
    "axes[0].set_title('Training data')\n",
    "axes[1].set_title('Testing data')\n",
    "\n",
    "# Plot the training data performance\n",
    "_=ConfusionMatrixDisplay.from_estimator(\n",
    "    estimator=model,\n",
    "    X=training_features,\n",
    "    y=training_labels,\n",
    "    display_labels=label_encoder.classes_,\n",
    "    normalize='all',\n",
    "    ax=axes[0]\n",
    ")\n",
    "\n",
    "# Plot the testing data performance\n",
    "_=ConfusionMatrixDisplay.from_estimator(\n",
    "    estimator=model,\n",
    "    X=testing_features,\n",
    "    y=testing_labels,\n",
    "    display_labels=label_encoder.classes_,\n",
    "    normalize='all',\n",
    "    ax=axes[1]\n",
    ")\n",
    "\n",
    "plt.show()\n",
    "\n",
    "training_predictions=model.predict(training_features)\n",
    "percent_accuracy=accuracy_score(training_labels, training_predictions) * 100\n",
    "print(f'Model is {percent_accuracy:.1f}% accurate on the training data.')\n",
    "\n",
    "testing_predictions=model.predict(testing_features)\n",
    "percent_accuracy=accuracy_score(testing_labels, testing_predictions) * 100\n",
    "print(f'Model is {percent_accuracy:.1f}% accurate on the testing data.')"
   ]
  },
  {
   "cell_type": "markdown",
   "metadata": {},
   "source": [
    "OK, it's a start - a few things to note:\n",
    "\n",
    "1. The 'real' performance on the test set will likely not be this good.\n",
    "2. The model is not just guessing 'no' all the time - in doing so it could have achieved 88.7% accuracy."
   ]
  },
  {
   "cell_type": "code",
   "execution_count": 21,
   "metadata": {},
   "outputs": [
    {
     "name": "stdout",
     "output_type": "stream",
     "text": [
      "Data is 88.8% \"no\"\n"
     ]
    }
   ],
   "source": [
    "print(f'Data is {float(1 - (sum(training_labels) / len(training_labels))) * 100:.1f}% \"no\"')"
   ]
  },
  {
   "cell_type": "markdown",
   "metadata": {},
   "source": [
    "### 3.2. Class weighted scikit-learn *LogisticRegression*"
   ]
  },
  {
   "cell_type": "code",
   "execution_count": 22,
   "metadata": {},
   "outputs": [
    {
     "data": {
      "image/png": "[encoded data removed]",
      "text/plain": [
       "<Figure size 800x400 with 4 Axes>"
      ]
     },
     "metadata": {},
     "output_type": "display_data"
    },
    {
     "name": "stdout",
     "output_type": "stream",
     "text": [
      "Model is 85.1% accurate on the training data.\n",
      "Model is 85.0% accurate on the testing data.\n"
     ]
    }
   ],
   "source": [
    "import matplotlib.pyplot as plt\n",
    "from sklearn.linear_model import LogisticRegression\n",
    "from sklearn.metrics import accuracy_score, confusion_matrix, ConfusionMatrixDisplay\n",
    "\n",
    "# Train the model on the training data\n",
    "model=LogisticRegression(random_state=0, class_weight='balanced').fit(training_features, training_labels)\n",
    "\n",
    "# Set-up two subplots for the training and testing confusion matrices\n",
    "fig, axes = plt.subplots(1, 2, figsize=(8, 4), sharey=True)\n",
    "\n",
    "# Set the figure and individual plot titles\n",
    "fig.suptitle('Classifier performance: did customer take\\nout long-term deposit?', fontsize=16)\n",
    "axes[0].set_title('Training data')\n",
    "axes[1].set_title('Testing data')\n",
    "\n",
    "# Plot the training data performance\n",
    "_=ConfusionMatrixDisplay.from_estimator(\n",
    "    estimator=model,\n",
    "    X=training_features,\n",
    "    y=training_labels,\n",
    "    display_labels=label_encoder.classes_,\n",
    "    normalize='all',\n",
    "    ax=axes[0]\n",
    ")\n",
    "\n",
    "# Plot the testing data performance\n",
    "_=ConfusionMatrixDisplay.from_estimator(\n",
    "    estimator=model,\n",
    "    X=testing_features,\n",
    "    y=testing_labels,\n",
    "    display_labels=label_encoder.classes_,\n",
    "    normalize='all',\n",
    "    ax=axes[1]\n",
    ")\n",
    "\n",
    "plt.show()\n",
    "\n",
    "training_predictions=model.predict(training_features)\n",
    "percent_accuracy=accuracy_score(training_labels, training_predictions) * 100\n",
    "print(f'Model is {percent_accuracy:.1f}% accurate on the training data.')\n",
    "\n",
    "testing_predictions=model.predict(testing_features)\n",
    "percent_accuracy=accuracy_score(testing_labels, testing_predictions) * 100\n",
    "print(f'Model is {percent_accuracy:.1f}% accurate on the testing data.')"
   ]
  },
  {
   "cell_type": "markdown",
   "metadata": {},
   "source": [
    "**Question**: OK, wait - hang on - the accuracy went down?\n",
    "\n",
    "**Answer**: Yes! But this is actualy a better result!\n",
    "\n",
    "Accuracy is often a terrible metric for classification performace. To see why, let's think about this data problem for a minute. Why are we building this classifier anyways?\n",
    "\n",
    "A likley business use case for this type of model is targeting sales & advertising spend. We don't want to waste a bunch of time and money calling people who aren't going to take out a deposit. There are much better metrics for this type of situation, but to build some intuition let's build a hypothetical scenario and see what effect our models have on the bank's bottem line. "
   ]
  }
 ],
 "metadata": {
  "kernelspec": {
   "display_name": "Python 3",
   "language": "python",
   "name": "python3"
  },
  "language_info": {
   "codemirror_mode": {
    "name": "ipython",
    "version": 3
   },
   "file_extension": ".py",
   "mimetype": "text/x-python",
   "name": "python",
   "nbconvert_exporter": "python",
   "pygments_lexer": "ipython3",
   "version": "3.10.12"
  },
  "orig_nbformat": 4
 },
 "nbformat": 4,
 "nbformat_minor": 2
}
